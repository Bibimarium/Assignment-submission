{
  "nbformat": 4,
  "nbformat_minor": 0,
  "metadata": {
    "colab": {
      "name": "Day1",
      "provenance": [],
      "collapsed_sections": []
    },
    "kernelspec": {
      "name": "python3",
      "display_name": "Python 3"
    },
    "language_info": {
      "name": "python"
    }
  },
  "cells": [
    {
      "cell_type": "code",
      "metadata": {
        "colab": {
          "base_uri": "https://localhost:8080/"
        },
        "id": "tC1YNREDbBI1",
        "outputId": "33d0a1d1-820a-473f-d2ee-e52e4611ef84"
      },
      "source": [
        "print(\"hello world\")"
      ],
      "execution_count": null,
      "outputs": [
        {
          "output_type": "stream",
          "text": [
            "hello world\n"
          ],
          "name": "stdout"
        }
      ]
    },
    {
      "cell_type": "code",
      "metadata": {
        "colab": {
          "base_uri": "https://localhost:8080/"
        },
        "id": "CRYa9I-Khdzn",
        "outputId": "b7a289d9-45c7-44e4-b762-59d0bac36e44"
      },
      "source": [
        "a=10\n",
        "print(id(a))"
      ],
      "execution_count": null,
      "outputs": [
        {
          "output_type": "stream",
          "text": [
            "94066545339168\n"
          ],
          "name": "stdout"
        }
      ]
    },
    {
      "cell_type": "code",
      "metadata": {
        "colab": {
          "base_uri": "https://localhost:8080/"
        },
        "id": "k_bPGO-YhoJJ",
        "outputId": "1612b74f-b54e-4484-9536-c79ee892fe44"
      },
      "source": [
        "a=int(input(\"enter first num:\"))\n",
        "b=int(input(\"enter second num:\"))\n",
        "print(a+b)"
      ],
      "execution_count": null,
      "outputs": [
        {
          "output_type": "stream",
          "text": [
            "enter first num:3\n",
            "enter second num:5\n",
            "8\n"
          ],
          "name": "stdout"
        }
      ]
    },
    {
      "cell_type": "code",
      "metadata": {
        "id": "kfIEcM-PqK1D",
        "colab": {
          "base_uri": "https://localhost:8080/"
        },
        "outputId": "34776191-d0a1-46d1-8fc2-ee97488b4cc1"
      },
      "source": [
        "x=int(input(\"Enter the value of x:\"))\n",
        "y=int(input(\"Enter the value of y:\"))\n",
        "print(x**y)"
      ],
      "execution_count": null,
      "outputs": [
        {
          "output_type": "stream",
          "text": [
            "Enter the value of x:3\n",
            "Enter the value of y:2\n",
            "9\n"
          ],
          "name": "stdout"
        }
      ]
    },
    {
      "cell_type": "code",
      "metadata": {
        "id": "_TGPRB7THAgA",
        "colab": {
          "base_uri": "https://localhost:8080/"
        },
        "outputId": "0c8630ea-a7f6-4e0d-e858-a18120fa1383"
      },
      "source": [
        "a=b=10\n",
        "print(id(a))\n",
        "print(id(b))"
      ],
      "execution_count": 14,
      "outputs": [
        {
          "output_type": "stream",
          "text": [
            "94092014975776\n",
            "94092014975776\n"
          ],
          "name": "stdout"
        }
      ]
    },
    {
      "cell_type": "code",
      "metadata": {
        "colab": {
          "base_uri": "https://localhost:8080/"
        },
        "id": "ByXPgHXWMP3L",
        "outputId": "730b6e92-3da8-4115-e58a-6b014a3778dd"
      },
      "source": [
        "a=b=c=10\n",
        "print(id(a))\n",
        "print(id(b))\n",
        "print(id(c))\n",
        "b=5\n",
        "print(id(b))\n"
      ],
      "execution_count": 18,
      "outputs": [
        {
          "output_type": "stream",
          "text": [
            "94092014975776\n",
            "94092014975776\n",
            "94092014975776\n",
            "94092014975616\n"
          ],
          "name": "stdout"
        }
      ]
    },
    {
      "cell_type": "code",
      "metadata": {
        "colab": {
          "base_uri": "https://localhost:8080/"
        },
        "id": "eKXErmAXMaFz",
        "outputId": "c9357094-c680-445a-c14c-a9d33d56ec87"
      },
      "source": [
        "a=1.5\n",
        "print(type(a))"
      ],
      "execution_count": 20,
      "outputs": [
        {
          "output_type": "stream",
          "text": [
            "<class 'float'>\n"
          ],
          "name": "stdout"
        }
      ]
    },
    {
      "cell_type": "code",
      "metadata": {
        "colab": {
          "base_uri": "https://localhost:8080/"
        },
        "id": "KVRLpGr7NCyC",
        "outputId": "97484353-0447-45fc-c95c-ce9e4ba3457b"
      },
      "source": [
        "l1=[1,'two',2001,4]\n",
        "print(l1)"
      ],
      "execution_count": 22,
      "outputs": [
        {
          "output_type": "stream",
          "text": [
            "[1, 'two', 2001, 4]\n"
          ],
          "name": "stdout"
        }
      ]
    },
    {
      "cell_type": "code",
      "metadata": {
        "colab": {
          "base_uri": "https://localhost:8080/"
        },
        "id": "K8NHOTsHNeyJ",
        "outputId": "121255c1-da85-42db-b294-754d6e4c8c10"
      },
      "source": [
        "l1=[1,'two',2001,4]\n",
        "l1[3]=23\n",
        "print(l1)\n"
      ],
      "execution_count": 23,
      "outputs": [
        {
          "output_type": "stream",
          "text": [
            "[1, 'two', 2001, 23]\n"
          ],
          "name": "stdout"
        }
      ]
    },
    {
      "cell_type": "code",
      "metadata": {
        "colab": {
          "base_uri": "https://localhost:8080/"
        },
        "id": "1eHqtDIuODl0",
        "outputId": "a5fc12fc-7aad-406f-888a-ef2f39a26614"
      },
      "source": [
        "l1=[1,'two',2001,4]\n",
        "print(l1)\n",
        "print(2001 in l1)"
      ],
      "execution_count": 24,
      "outputs": [
        {
          "output_type": "stream",
          "text": [
            "[1, 'two', 2001, 4]\n",
            "True\n"
          ],
          "name": "stdout"
        }
      ]
    },
    {
      "cell_type": "code",
      "metadata": {
        "colab": {
          "base_uri": "https://localhost:8080/"
        },
        "id": "waosr_mZOTPI",
        "outputId": "2d41efa1-767c-4d99-bd9d-3adc79cbfe92"
      },
      "source": [
        "l1=[1,'two',2001,4]\n",
        "l2=[1,2,3]\n",
        "print(l1+l2)"
      ],
      "execution_count": 25,
      "outputs": [
        {
          "output_type": "stream",
          "text": [
            "[1, 'two', 2001, 4, 1, 2, 3]\n"
          ],
          "name": "stdout"
        }
      ]
    },
    {
      "cell_type": "code",
      "metadata": {
        "colab": {
          "base_uri": "https://localhost:8080/"
        },
        "id": "73z6rgBoOjfY",
        "outputId": "4b078aa2-da47-4345-80c2-926489a73604"
      },
      "source": [
        "l2=[1,2,3]\n",
        "print(l2[0:1]*2+l2[1:2]*2+l2[2:3]*2)"
      ],
      "execution_count": 37,
      "outputs": [
        {
          "output_type": "stream",
          "text": [
            "[1, 1, 2, 2, 3, 3]\n"
          ],
          "name": "stdout"
        }
      ]
    },
    {
      "cell_type": "code",
      "metadata": {
        "colab": {
          "base_uri": "https://localhost:8080/"
        },
        "id": "KWXGh24SOs4S",
        "outputId": "b24a71b6-2c6e-477f-a7f1-aca1354df731"
      },
      "source": [
        "l1=[1,'two',2001,4]\n",
        "print(l1[1::3])"
      ],
      "execution_count": 39,
      "outputs": [
        {
          "output_type": "stream",
          "text": [
            "['two']\n"
          ],
          "name": "stdout"
        }
      ]
    },
    {
      "cell_type": "code",
      "metadata": {
        "colab": {
          "base_uri": "https://localhost:8080/"
        },
        "id": "iv-I1eCLP3-i",
        "outputId": "5379f04b-9de7-4042-a229-f72d52f2bce3"
      },
      "source": [
        "l1=[1,'two',2001,4]\n",
        "print(l1[1:2:2])"
      ],
      "execution_count": 56,
      "outputs": [
        {
          "output_type": "stream",
          "text": [
            "['two']\n"
          ],
          "name": "stdout"
        }
      ]
    },
    {
      "cell_type": "code",
      "metadata": {
        "id": "3l2b4mrhQKu3"
      },
      "source": [
        ""
      ],
      "execution_count": null,
      "outputs": []
    }
  ]
}