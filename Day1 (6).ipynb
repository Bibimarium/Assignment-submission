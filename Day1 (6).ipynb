{
  "nbformat": 4,
  "nbformat_minor": 0,
  "metadata": {
    "colab": {
      "name": "Day1",
      "provenance": [],
      "collapsed_sections": []
    },
    "kernelspec": {
      "name": "python3",
      "display_name": "Python 3"
    },
    "language_info": {
      "name": "python"
    }
  },
  "cells": [
    {
      "cell_type": "code",
      "metadata": {
        "colab": {
          "base_uri": "https://localhost:8080/"
        },
        "id": "tC1YNREDbBI1",
        "outputId": "33d0a1d1-820a-473f-d2ee-e52e4611ef84"
      },
      "source": [
        "print(\"hello world\")"
      ],
      "execution_count": null,
      "outputs": [
        {
          "output_type": "stream",
          "text": [
            "hello world\n"
          ],
          "name": "stdout"
        }
      ]
    },
    {
      "cell_type": "code",
      "metadata": {
        "colab": {
          "base_uri": "https://localhost:8080/"
        },
        "id": "CRYa9I-Khdzn",
        "outputId": "b7a289d9-45c7-44e4-b762-59d0bac36e44"
      },
      "source": [
        "a=10\n",
        "print(id(a))"
      ],
      "execution_count": null,
      "outputs": [
        {
          "output_type": "stream",
          "text": [
            "94066545339168\n"
          ],
          "name": "stdout"
        }
      ]
    },
    {
      "cell_type": "code",
      "metadata": {
        "colab": {
          "base_uri": "https://localhost:8080/"
        },
        "id": "k_bPGO-YhoJJ",
        "outputId": "1612b74f-b54e-4484-9536-c79ee892fe44"
      },
      "source": [
        "a=int(input(\"enter first num:\"))\n",
        "b=int(input(\"enter second num:\"))\n",
        "print(a+b)"
      ],
      "execution_count": null,
      "outputs": [
        {
          "output_type": "stream",
          "text": [
            "enter first num:3\n",
            "enter second num:5\n",
            "8\n"
          ],
          "name": "stdout"
        }
      ]
    },
    {
      "cell_type": "code",
      "metadata": {
        "id": "kfIEcM-PqK1D",
        "colab": {
          "base_uri": "https://localhost:8080/"
        },
        "outputId": "34776191-d0a1-46d1-8fc2-ee97488b4cc1"
      },
      "source": [
        "#Assignment 1: Take 2 values x and y and print x power y\n",
        "x=int(input(\"Enter the value of x:\"))\n",
        "y=int(input(\"Enter the value of y:\"))\n",
        "print(x**y)"
      ],
      "execution_count": null,
      "outputs": [
        {
          "output_type": "stream",
          "text": [
            "Enter the value of x:3\n",
            "Enter the value of y:2\n",
            "9\n"
          ],
          "name": "stdout"
        }
      ]
    },
    {
      "cell_type": "code",
      "metadata": {
        "id": "_TGPRB7THAgA",
        "colab": {
          "base_uri": "https://localhost:8080/"
        },
        "outputId": "0c8630ea-a7f6-4e0d-e858-a18120fa1383"
      },
      "source": [
        "a=b=10\n",
        "print(id(a))\n",
        "print(id(b))"
      ],
      "execution_count": null,
      "outputs": [
        {
          "output_type": "stream",
          "text": [
            "94092014975776\n",
            "94092014975776\n"
          ],
          "name": "stdout"
        }
      ]
    },
    {
      "cell_type": "code",
      "metadata": {
        "colab": {
          "base_uri": "https://localhost:8080/"
        },
        "id": "ByXPgHXWMP3L",
        "outputId": "730b6e92-3da8-4115-e58a-6b014a3778dd"
      },
      "source": [
        "a=b=c=10\n",
        "print(id(a))\n",
        "print(id(b))\n",
        "print(id(c))\n",
        "b=5\n",
        "print(id(b))\n"
      ],
      "execution_count": null,
      "outputs": [
        {
          "output_type": "stream",
          "text": [
            "94092014975776\n",
            "94092014975776\n",
            "94092014975776\n",
            "94092014975616\n"
          ],
          "name": "stdout"
        }
      ]
    },
    {
      "cell_type": "code",
      "metadata": {
        "colab": {
          "base_uri": "https://localhost:8080/"
        },
        "id": "eKXErmAXMaFz",
        "outputId": "c9357094-c680-445a-c14c-a9d33d56ec87"
      },
      "source": [
        "a=1.5\n",
        "print(type(a))"
      ],
      "execution_count": null,
      "outputs": [
        {
          "output_type": "stream",
          "text": [
            "<class 'float'>\n"
          ],
          "name": "stdout"
        }
      ]
    },
    {
      "cell_type": "code",
      "metadata": {
        "colab": {
          "base_uri": "https://localhost:8080/"
        },
        "id": "KVRLpGr7NCyC",
        "outputId": "97484353-0447-45fc-c95c-ce9e4ba3457b"
      },
      "source": [
        "l1=[1,'two',2001,4]\n",
        "print(l1)"
      ],
      "execution_count": null,
      "outputs": [
        {
          "output_type": "stream",
          "text": [
            "[1, 'two', 2001, 4]\n"
          ],
          "name": "stdout"
        }
      ]
    },
    {
      "cell_type": "code",
      "metadata": {
        "colab": {
          "base_uri": "https://localhost:8080/"
        },
        "id": "K8NHOTsHNeyJ",
        "outputId": "121255c1-da85-42db-b294-754d6e4c8c10"
      },
      "source": [
        "l1=[1,'two',2001,4]\n",
        "l1[3]=23\n",
        "print(l1)\n"
      ],
      "execution_count": null,
      "outputs": [
        {
          "output_type": "stream",
          "text": [
            "[1, 'two', 2001, 23]\n"
          ],
          "name": "stdout"
        }
      ]
    },
    {
      "cell_type": "code",
      "metadata": {
        "colab": {
          "base_uri": "https://localhost:8080/"
        },
        "id": "1eHqtDIuODl0",
        "outputId": "a5fc12fc-7aad-406f-888a-ef2f39a26614"
      },
      "source": [
        "l1=[1,'two',2001,4]\n",
        "print(l1)\n",
        "print(2001 in l1)"
      ],
      "execution_count": null,
      "outputs": [
        {
          "output_type": "stream",
          "text": [
            "[1, 'two', 2001, 4]\n",
            "True\n"
          ],
          "name": "stdout"
        }
      ]
    },
    {
      "cell_type": "code",
      "metadata": {
        "colab": {
          "base_uri": "https://localhost:8080/"
        },
        "id": "waosr_mZOTPI",
        "outputId": "2d41efa1-767c-4d99-bd9d-3adc79cbfe92"
      },
      "source": [
        "l1=[1,'two',2001,4]\n",
        "l2=[1,2,3]\n",
        "print(l1+l2)"
      ],
      "execution_count": null,
      "outputs": [
        {
          "output_type": "stream",
          "text": [
            "[1, 'two', 2001, 4, 1, 2, 3]\n"
          ],
          "name": "stdout"
        }
      ]
    },
    {
      "cell_type": "code",
      "metadata": {
        "colab": {
          "base_uri": "https://localhost:8080/"
        },
        "id": "73z6rgBoOjfY",
        "outputId": "4b078aa2-da47-4345-80c2-926489a73604"
      },
      "source": [
        "l2=[1,2,3]\n",
        "print(l2[0:1]*2+l2[1:2]*2+l2[2:3]*2)"
      ],
      "execution_count": null,
      "outputs": [
        {
          "output_type": "stream",
          "text": [
            "[1, 1, 2, 2, 3, 3]\n"
          ],
          "name": "stdout"
        }
      ]
    },
    {
      "cell_type": "code",
      "metadata": {
        "colab": {
          "base_uri": "https://localhost:8080/"
        },
        "id": "KWXGh24SOs4S",
        "outputId": "b24a71b6-2c6e-477f-a7f1-aca1354df731"
      },
      "source": [
        "l1=[1,'two',2001,4]\n",
        "print(l1[1::3])"
      ],
      "execution_count": null,
      "outputs": [
        {
          "output_type": "stream",
          "text": [
            "['two']\n"
          ],
          "name": "stdout"
        }
      ]
    },
    {
      "cell_type": "code",
      "metadata": {
        "colab": {
          "base_uri": "https://localhost:8080/"
        },
        "id": "iv-I1eCLP3-i",
        "outputId": "5379f04b-9de7-4042-a229-f72d52f2bce3"
      },
      "source": [
        "l1=[1,'two',2001,4]\n",
        "print(l1[1:2:2])"
      ],
      "execution_count": null,
      "outputs": [
        {
          "output_type": "stream",
          "text": [
            "['two']\n"
          ],
          "name": "stdout"
        }
      ]
    },
    {
      "cell_type": "code",
      "metadata": {
        "id": "3l2b4mrhQKu3",
        "colab": {
          "base_uri": "https://localhost:8080/"
        },
        "outputId": "4ad0811a-cc8f-4312-ed32-17c1872e7aea"
      },
      "source": [
        "l=[4,5,3,1,2]\n",
        "l.sort()\n",
        "print(l)"
      ],
      "execution_count": null,
      "outputs": [
        {
          "output_type": "stream",
          "text": [
            "[1, 2, 3, 4, 5]\n"
          ],
          "name": "stdout"
        }
      ]
    },
    {
      "cell_type": "code",
      "metadata": {
        "colab": {
          "base_uri": "https://localhost:8080/"
        },
        "id": "sgHhGmGfG3Sx",
        "outputId": "1738d032-7d39-476e-da93-33999936fed3"
      },
      "source": [
        "l=[4,5,3,1,2]\n",
        "print(sorted(l))   #python buit in function\n"
      ],
      "execution_count": null,
      "outputs": [
        {
          "output_type": "stream",
          "text": [
            "[1, 2, 3, 4, 5]\n"
          ],
          "name": "stdout"
        }
      ]
    },
    {
      "cell_type": "code",
      "metadata": {
        "colab": {
          "base_uri": "https://localhost:8080/"
        },
        "id": "i6QoEq7_HQZ-",
        "outputId": "443ac2ff-81f9-4cfe-f2c0-2bc1f1778f72"
      },
      "source": [
        "l=[4,5,3,1,2]\n",
        "print(sorted(l,reverse=True))\n",
        "print(l)"
      ],
      "execution_count": null,
      "outputs": [
        {
          "output_type": "stream",
          "text": [
            "[5, 4, 3, 2, 1]\n",
            "[4, 5, 3, 1, 2]\n"
          ],
          "name": "stdout"
        }
      ]
    },
    {
      "cell_type": "code",
      "metadata": {
        "colab": {
          "base_uri": "https://localhost:8080/"
        },
        "id": "zNlYvqAjHli7",
        "outputId": "c29a8a43-80c5-494f-8ad8-af2caf23a3be"
      },
      "source": [
        "l=[4,5,3,1,2]\n",
        "print(l.index(5))"
      ],
      "execution_count": null,
      "outputs": [
        {
          "output_type": "stream",
          "text": [
            "1\n"
          ],
          "name": "stdout"
        }
      ]
    },
    {
      "cell_type": "code",
      "metadata": {
        "colab": {
          "base_uri": "https://localhost:8080/"
        },
        "id": "JS9YJ-9-H9se",
        "outputId": "7dd0a87a-e3dc-4920-891e-8f7e4b44e317"
      },
      "source": [
        "l=[4,5,3,1,2,1]\n",
        "print(l.count(1))"
      ],
      "execution_count": null,
      "outputs": [
        {
          "output_type": "stream",
          "text": [
            "2\n"
          ],
          "name": "stdout"
        }
      ]
    },
    {
      "cell_type": "code",
      "metadata": {
        "colab": {
          "base_uri": "https://localhost:8080/"
        },
        "id": "bIciut96IGl-",
        "outputId": "f1a8d442-c512-41ae-8f28-a915323cba71"
      },
      "source": [
        "l=[4,5,3,1,2]\n",
        "l.append(6)\n",
        "print(l)"
      ],
      "execution_count": null,
      "outputs": [
        {
          "output_type": "stream",
          "text": [
            "[4, 5, 3, 1, 2, 6]\n"
          ],
          "name": "stdout"
        }
      ]
    },
    {
      "cell_type": "code",
      "metadata": {
        "colab": {
          "base_uri": "https://localhost:8080/"
        },
        "id": "WhJECY2kIUul",
        "outputId": "4012049a-a491-40d9-dfbc-ec4dc0bb2b25"
      },
      "source": [
        "l=[4,5,3,1,2,1]\n",
        "l.pop(1)\n",
        "print(l)"
      ],
      "execution_count": null,
      "outputs": [
        {
          "output_type": "stream",
          "text": [
            "[4, 3, 1, 2, 1]\n"
          ],
          "name": "stdout"
        }
      ]
    },
    {
      "cell_type": "code",
      "metadata": {
        "colab": {
          "base_uri": "https://localhost:8080/"
        },
        "id": "nccf9gFvI2M2",
        "outputId": "ae404578-c83f-4d4f-b8d6-b74712967b6c"
      },
      "source": [
        "l=[4,5,3,1,2,1]\n",
        "l.remove(4)\n",
        "print(l)"
      ],
      "execution_count": null,
      "outputs": [
        {
          "output_type": "stream",
          "text": [
            "[5, 3, 1, 2, 1]\n"
          ],
          "name": "stdout"
        }
      ]
    },
    {
      "cell_type": "code",
      "metadata": {
        "colab": {
          "base_uri": "https://localhost:8080/"
        },
        "id": "z2D6gnVfJHDN",
        "cellView": "code",
        "outputId": "6c45df0c-ff7d-42c7-b15a-cea0655c4082"
      },
      "source": [
        "#Assignment 2: take a string and print the number of occurrence of each character  \n",
        "string=input(\"Enter a string\" )\n",
        "list=[]\n",
        "for i in string:\n",
        "  if i  not in list:\n",
        "    list.append(i)\n",
        "for items in list:\n",
        "  print(items,string.count(items),sep='-')\n"
      ],
      "execution_count": null,
      "outputs": [
        {
          "output_type": "stream",
          "text": [
            "Enter a string\"welcome to python\"\n",
            "\"-2\n",
            "w-1\n",
            "e-2\n",
            "l-1\n",
            "c-1\n",
            "o-3\n",
            "m-1\n",
            " -2\n",
            "t-2\n",
            "p-1\n",
            "y-1\n",
            "h-1\n",
            "n-1\n"
          ],
          "name": "stdout"
        }
      ]
    },
    {
      "cell_type": "code",
      "metadata": {
        "id": "pWdk7y_xM0ga",
        "colab": {
          "base_uri": "https://localhost:8080/"
        },
        "outputId": "b16e3980-6c15-4789-a264-f989d613b1a5"
      },
      "source": [
        "#Assignment 3:Implement a decorator mod_div() which assures that the numerator is always greater\n",
        " than the denominator. e.g. if a = 2, b = 4, \n",
        " then div(a, b) should return 2.0 as the output and not 0.5\n",
        "def mod_div(fun):       #modified division function\n",
        "  def inner(nr, dr):\n",
        "    if dr > nr:         #if denominator is greater then numretor then swap the values\n",
        "      dr,nr=nr,dr\n",
        "    fun(nr, dr)   \n",
        "\n",
        "  return inner\n",
        "\n",
        "@mod_div\n",
        "def div(nr, dr):\n",
        "  print(nr / dr)\n",
        "\n",
        "div(3,6)"
      ],
      "execution_count": 105,
      "outputs": [
        {
          "output_type": "stream",
          "text": [
            "2.0\n"
          ],
          "name": "stdout"
        }
      ]
    },
    {
      "cell_type": "code",
      "metadata": {
        "colab": {
          "base_uri": "https://localhost:8080/"
        },
        "id": "3IQpK-iUDaqo",
        "outputId": "9d1c696b-6175-4e1d-b11b-802b48d861d3"
      },
      "source": [
        "def div(a, b):\n",
        " print(a / b)\n",
        "\n",
        "div(4,2)"
      ],
      "execution_count": 86,
      "outputs": [
        {
          "output_type": "stream",
          "text": [
            "2.0\n"
          ],
          "name": "stdout"
        }
      ]
    },
    {
      "cell_type": "code",
      "metadata": {
        "colab": {
          "base_uri": "https://localhost:8080/"
        },
        "id": "O56iNbycKYyQ",
        "outputId": "f3a52474-86fb-46bb-b76c-63b59695e000"
      },
      "source": [
        "# Mini Project: Generating everytime  6 character OTPs\n",
        "\n",
        "import random as r\n",
        "import string\n",
        "\n",
        "OTP = ''\n",
        "characters_list = string.ascii_letters + string.digits\n",
        "for i in range(6):\n",
        "  OTP += r.choice(characters_list)\n",
        "\n",
        "print(OTP)"
      ],
      "execution_count": 150,
      "outputs": [
        {
          "output_type": "stream",
          "text": [
            "1Zrpls\n"
          ],
          "name": "stdout"
        }
      ]
    },
    {
      "cell_type": "code",
      "metadata": {
        "id": "pQTQ35JuPIGy"
      },
      "source": [
        ""
      ],
      "execution_count": 137,
      "outputs": []
    }
  ]
}